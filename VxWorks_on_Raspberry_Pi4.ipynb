{
  "cells": [
    {
      "cell_type": "code",
      "execution_count": null,
      "metadata": {},
      "outputs": [],
      "source": [
        "import os\n",
        "import getpass"
      ]
    },
    {
      "cell_type": "markdown",
      "metadata": {},
      "source": [
        "Getting password from stdin and passing it to sudo"
      ]
    },
    {
      "cell_type": "code",
      "execution_count": null,
      "metadata": {},
      "outputs": [],
      "source": [
        "password=getpass.getpass()"
      ]
    },
    {
      "cell_type": "code",
      "execution_count": null,
      "metadata": {
        "colab": {
          "base_uri": "https://localhost:8080/"
        },
        "id": "B5sN2WeIdCsm",
        "outputId": "0b2395bc-5f29-46c0-efbc-80e9bde35c0c"
      },
      "outputs": [],
      "source": [
        "!echo {password}|sudo -S {\"sudo apt install gcc-arm-linux-gnueabihf\"}\n",
        "!echo {password}|sudo -S {\"sudo apt-get install gcc-aarch64-linux-gnu\"}\n",
        "!echo {password}|sudo -S {\"sudo apt-get install u-boot-tools\"}\n",
        "!echo {password}|sudo -S {\"sudo apt-get install bison\"}\n",
        "!echo {password}|sudo -S {\"sudo apt-get install flex\"}\n",
        "!echo {password}|sudo -S {\"sudo apt-get install bc\"}"
      ]
    },
    {
      "cell_type": "code",
      "execution_count": null,
      "metadata": {
        "colab": {
          "base_uri": "https://localhost:8080/"
        },
        "id": "DGf0NOu1dHZW",
        "outputId": "9e1320af-80f4-4b06-94af-a26a19e3599d"
      },
      "outputs": [],
      "source": [
        "!git clone https://gitlab.denx.de/u-boot/u-boot.git"
      ]
    },
    {
      "cell_type": "code",
      "execution_count": null,
      "metadata": {
        "colab": {
          "base_uri": "https://localhost:8080/"
        },
        "id": "JXITFy-6dExw",
        "outputId": "95e37a99-ae35-4cb5-ebb0-914f37432805"
      },
      "outputs": [],
      "source": [
        "!cd u-boot && CROSS_COMPILE=aarch64-linux-gnu- make rpi_4_defconfig\n",
        "!cd u-boot && CROSS_COMPILE=aarch64-linux-gnu- make"
      ]
    },
    {
      "cell_type": "code",
      "execution_count": null,
      "metadata": {
        "colab": {
          "base_uri": "https://localhost:8080/"
        },
        "id": "5tlhw03Y90_5",
        "outputId": "287ab3ab-7312-439c-ce79-c5b71e68758e"
      },
      "outputs": [],
      "source": [
        "!wget https://d13321s3lxgewa.cloudfront.net/wrsdk-vxworks7-raspberrypi4b-1.2.tar.bz2\n",
        "!wget https://github.com/raspberrypi/firmware/archive/1.20200212.tar.gz"
      ]
    },
    {
      "cell_type": "code",
      "execution_count": null,
      "metadata": {
        "id": "GrQsUp1ZDsUa"
      },
      "outputs": [],
      "source": [
        "!tar -xf 1.20200212.tar.gz\n",
        "!tar -xf wrsdk-vxworks7-raspberrypi4b-1.2.tar.bz2"
      ]
    },
    {
      "cell_type": "code",
      "execution_count": null,
      "metadata": {
        "id": "GhiTpbCfDqRT"
      },
      "outputs": [],
      "source": [
        "!mkdir sd-card"
      ]
    },
    {
      "cell_type": "code",
      "execution_count": null,
      "metadata": {
        "id": "JU8euuGM_2qX"
      },
      "outputs": [],
      "source": [
        "!cp wrsdk-vxworks7-raspberrypi4b/vxsdk/bsps/rpi_4_0_1_1_1/uVxWorks sd-card\n",
        "!cp u-boot/u-boot.bin sd-card/u-boot-64.bin\n",
        "!cp -R wrsdk-vxworks7-raspberrypi4b/vxsdk/sdcard/* sd-card/\n",
        "!cp -R firmware-1.20200212/boot/* sd-card/"
      ]
    },
    {
      "cell_type": "code",
      "execution_count": null,
      "metadata": {
        "colab": {
          "base_uri": "https://localhost:8080/"
        },
        "id": "XtwIAAMeB4uJ",
        "outputId": "a75bdbab-b935-4d55-d38e-ac4591121693"
      },
      "outputs": [],
      "source": [
        "!zip -r sd-card.zip sd-card"
      ]
    },
    {
      "cell_type": "markdown",
      "metadata": {},
      "source": [
        "Uploading firmware to SD-Card"
      ]
    },
    {
      "cell_type": "code",
      "execution_count": null,
      "metadata": {
        "id": "LZnHUea2EeZU"
      },
      "outputs": [],
      "source": [
        "# 1. format sd-card to FAT32\n",
        "# 2. copy sd-card content to sd-card\n",
        "# 3. insert sd-card to your Pi\n",
        "# 4. boot your Pi"
      ]
    }
  ],
  "metadata": {
    "colab": {
      "collapsed_sections": [],
      "name": "VxWorks 21.03 on Raspberry Pi.ipynb",
      "provenance": []
    },
    "interpreter": {
      "hash": "e7370f93d1d0cde622a1f8e1c04877d8463912d04d973331ad4851f04de6915a"
    },
    "kernelspec": {
      "display_name": "Python 3.8.10 64-bit",
      "name": "python3"
    },
    "language_info": {
      "codemirror_mode": {
        "name": "ipython",
        "version": 3
      },
      "file_extension": ".py",
      "mimetype": "text/x-python",
      "name": "python",
      "nbconvert_exporter": "python",
      "pygments_lexer": "ipython3",
      "version": "3.8.10"
    }
  },
  "nbformat": 4,
  "nbformat_minor": 0
}
